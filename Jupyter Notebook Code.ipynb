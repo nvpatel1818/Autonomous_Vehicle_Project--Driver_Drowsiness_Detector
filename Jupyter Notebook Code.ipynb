{
 "cells": [
  {
   "cell_type": "markdown",
   "id": "6fed1639",
   "metadata": {},
   "source": [
    "# Basic Driver Drowsiness Detector\n",
    "## programmed by Nishantkumar V Patel"
   ]
  },
  {
   "cell_type": "markdown",
   "id": "2b47c570",
   "metadata": {},
   "source": [
    "### Importing the relevant Libraries "
   ]
  },
  {
   "cell_type": "code",
   "execution_count": 3,
   "id": "c32d5e40",
   "metadata": {},
   "outputs": [],
   "source": [
    "import dlib\n",
    "import cv2 as cv\n",
    "import numpy as np\n",
    "from playsound import playsound"
   ]
  },
  {
   "cell_type": "markdown",
   "id": "92356311",
   "metadata": {},
   "source": [
    "### Create Objects and Variables"
   ]
  },
  {
   "cell_type": "code",
   "execution_count": null,
   "id": "c6e267e9",
   "metadata": {},
   "outputs": [],
   "source": [
    "face_detector = dlib.get_frontal_face_detector()\n",
    "landmark_detector = dlib.shape_predictor('shape_predictor_68_face_landmarks.dat')\n",
    "web_cam = cv.VideoCapture(0)\n",
    "iterations = 0"
   ]
  },
  {
   "cell_type": "markdown",
   "id": "046b88d8",
   "metadata": {},
   "source": [
    "### Create algorithm for detection"
   ]
  },
  {
   "cell_type": "code",
   "execution_count": null,
   "id": "d01197ba",
   "metadata": {},
   "outputs": [],
   "source": [
    "\n",
    "while True:\n",
    "    _, frame = web_cam.read()\n",
    "    video_frame = cv.flip(frame, 1)\n",
    "    \n",
    "    faces = face_detector(video_frame)\n",
    "    \n",
    "    \n",
    "    \n",
    "    for instantaneous_face in faces:  \n",
    "        \n",
    "        facial_landmarks = landmark_detector(video_frame, instantaneous_face)\n",
    "        \n",
    "        \n",
    "        upper_eye_x_1 = int(facial_landmarks.part(44).x)\n",
    "        upper_eye_y_1 = int(facial_landmarks.part(44).y)\n",
    "        lower_eye_x_1 = int(facial_landmarks.part(46).x)\n",
    "        lower_eye_y_1 = int(facial_landmarks.part(46).y)\n",
    "\n",
    "        cv.circle(video_frame, (upper_eye_x_1,upper_eye_y_1), 3, (0,0,255), -1)    #\n",
    "        cv.circle(video_frame, (lower_eye_x_1,lower_eye_y_1), 3, (0,0,255), -1)\n",
    "        \n",
    "        left_eye_x_1 = int(facial_landmarks.part(42).x)\n",
    "        left_eye_y_1 = int(facial_landmarks.part(42).y)\n",
    "        right_eye_x_1 = int(facial_landmarks.part(45).x)\n",
    "        right_eye_y_1 = int(facial_landmarks.part(45).y)\n",
    "        \n",
    "        cv.circle(video_frame, (left_eye_x_1,left_eye_y_1), 3, (255,0,0), -1)\n",
    "        cv.circle(video_frame, (right_eye_x_1,right_eye_y_1), 3, (255,0,0), -1)\n",
    "        \n",
    "        \n",
    "        upper_eye_x_2 = int(facial_landmarks.part(37).x)\n",
    "        upper_eye_y_2 = int(facial_landmarks.part(37).y)\n",
    "        lower_eye_x_2 = int(facial_landmarks.part(41).x)\n",
    "        lower_eye_y_2= int(facial_landmarks.part(41).y)\n",
    "\n",
    "        cv.circle(video_frame, (upper_eye_x_2,upper_eye_y_2), 3, (0,0,255), -1)\n",
    "        cv.circle(video_frame, (lower_eye_x_2,lower_eye_y_2), 3, (0,0,255), -1)\n",
    "        \n",
    "        left_eye_x_2 = int(facial_landmarks.part(39).x)\n",
    "        left_eye_y_2 = int(facial_landmarks.part(39).y)\n",
    "        right_eye_x_2 = int(facial_landmarks.part(36).x)\n",
    "        right_eye_y_2 = int(facial_landmarks.part(36).y)\n",
    "        \n",
    "        cv.circle(video_frame, (left_eye_x_2,left_eye_y_2), 3, (0,255,0), -1)\n",
    "        cv.circle(video_frame, (right_eye_x_2,right_eye_y_2), 3, (0,255,0), -1)\n",
    "        \n",
    "        \n",
    "        ratio1 = (right_eye_x_1 - left_eye_x_1) / (upper_eye_y_1 - lower_eye_y_1)\n",
    "        ratio2 = (right_eye_x_2 - left_eye_x_2) / (upper_eye_y_2 - lower_eye_y_2)\n",
    "        print(ratio1, ratio2)\n",
    "        \n",
    "        if (ratio1 and ratio2 > 4):\n",
    "            iterations += 1 \n",
    "        else:\n",
    "            iterations = 0 #means more than 16 iterations has to be consecutively and continuously otherwise it is considered to be again 0.00\n",
    "    \n",
    "    \n",
    "        if(iterations > 16):  \n",
    "            print('WARNING: The driver is feeling Sleepy!\\nWARNUNG: Der Fahrer fühlt sich schläfrig!')\n",
    "            playsound(\"/Users/jamesbond/Documents/My_Projects/Basic_Driver_Drowsiness_Detectorrrr/Python-and_AI_Project--Basic_Driver_Drowsiness_Detector/WARNING_SOUND1.mp3\")\n",
    "        \n",
    "    \n",
    "    cv.imshow(\"Camera Detector\", video_frame)\n",
    "    \n",
    "    key = cv.waitKey(30)   \n",
    "    if (key == 27):\n",
    "        break\n",
    "        \n"
   ]
  },
  {
   "cell_type": "markdown",
   "id": "e7841078",
   "metadata": {},
   "source": [
    "### releasing the camera"
   ]
  },
  {
   "cell_type": "code",
   "execution_count": null,
   "id": "1968cc2a",
   "metadata": {},
   "outputs": [],
   "source": [
    "web_cam.release()"
   ]
  }
 ],
 "metadata": {
  "kernelspec": {
   "display_name": "Python 3 (ipykernel)",
   "language": "python",
   "name": "python3"
  },
  "language_info": {
   "codemirror_mode": {
    "name": "ipython",
    "version": 3
   },
   "file_extension": ".py",
   "mimetype": "text/x-python",
   "name": "python",
   "nbconvert_exporter": "python",
   "pygments_lexer": "ipython3",
   "version": "3.9.12"
  }
 },
 "nbformat": 4,
 "nbformat_minor": 5
}
